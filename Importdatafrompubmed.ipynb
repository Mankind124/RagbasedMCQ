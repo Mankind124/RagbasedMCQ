{
  "nbformat": 4,
  "nbformat_minor": 0,
  "metadata": {
    "colab": {
      "provenance": [],
      "authorship_tag": "ABX9TyP2NssMuDWum/DIOMp8Srem",
      "include_colab_link": true
    },
    "kernelspec": {
      "name": "python3",
      "display_name": "Python 3"
    },
    "language_info": {
      "name": "python"
    }
  },
  "cells": [
    {
      "cell_type": "markdown",
      "metadata": {
        "id": "view-in-github",
        "colab_type": "text"
      },
      "source": [
        "<a href=\"https://colab.research.google.com/github/Mankind124/RagbasedMCQ/blob/main/Importdatafrompubmed.ipynb\" target=\"_parent\"><img src=\"https://colab.research.google.com/assets/colab-badge.svg\" alt=\"Open In Colab\"/></a>"
      ]
    },
    {
      "cell_type": "code",
      "execution_count": null,
      "metadata": {
        "id": "rJSM2rf4maiY"
      },
      "outputs": [],
      "source": [
        "pip install biopython"
      ]
    },
    {
      "cell_type": "code",
      "source": [
        "import time\n",
        "from Bio import Entrez\n",
        "from datetime import datetime, timedelta\n",
        "\n",
        "def parse_pub_date(pub_date):\n",
        "    \"\"\" Extracts and formats the publication date from the PubDate field. \"\"\"\n",
        "    if 'Year' in pub_date:\n",
        "        year = pub_date['Year']\n",
        "        month = pub_date.get('Month', '01')  # Default to January if month is missing\n",
        "        day = pub_date.get('Day', '01')  # Default to the first day if day is missing\n",
        "        return f\"{year}-{month}-{day}\"\n",
        "    return \"Not Available\"\n",
        "\n",
        "def format_article_info(pmid, title, authors, journal, pub_date, url, abstract):\n",
        "    return f\"PMID: {pmid}\\nTitle: {title}\\nAuthors: {authors}\\nJournal: {journal}\\nPublication Date: {pub_date}\\nURL: {url}\\nAbstract: {abstract}\\n\\n\"\n",
        "\n",
        "# Set the email address for Entrez access\n",
        "Entrez.email = 'your.email@example.com'\n",
        "\n",
        "# Define search parameters\n",
        "topics = ['cardiovascular disease']\n",
        "\n",
        "# Set date range for the past 10 years\n",
        "end_date = datetime.now()\n",
        "start_date = end_date - timedelta(days=10*365)\n",
        "date_range = f'(\"{start_date.strftime(\"%Y/%m/%d\")}\"[Date - Create] : \"{end_date.strftime(\"%Y/%m/%d\")}\"[Date - Create])'\n",
        "\n",
        "# Build query\n",
        "individual_queries = [f'({topic}[Title/Abstract] AND {date_range})' for topic in topics]\n",
        "\n",
        "# Open a file to write the results\n",
        "with open('cardiovascular_disease_papers.txt', 'w', encoding='utf-8') as f:\n",
        "    # Process each query individually\n",
        "    for query in individual_queries:\n",
        "        handle = Entrez.esearch(db='pubmed', term=query, retmax=1000)  # Increased retmax to get more results\n",
        "        record = Entrez.read(handle)\n",
        "        id_list = record['IdList']\n",
        "\n",
        "        # Iterate over each PMID to fetch detailed article information\n",
        "        for pmid in id_list:\n",
        "            handle = Entrez.efetch(db='pubmed', id=pmid, retmode='xml')\n",
        "            records = Entrez.read(handle)\n",
        "\n",
        "            # Process each article found in the fetched XML\n",
        "            for record in records['PubmedArticle']:\n",
        "                article = record['MedlineCitation']['Article']\n",
        "\n",
        "                title = article.get('ArticleTitle', 'Title Not Available')\n",
        "                authors_list = ', '.join(a.get('ForeName', '') + ' ' + a.get('LastName', '') for a in article.get('AuthorList', [])) or 'Authors Not Available'\n",
        "                journal = article['Journal'].get('Title', 'Journal Not Available')\n",
        "                pub_date = parse_pub_date(article['Journal']['JournalIssue']['PubDate'])\n",
        "                url = f\"https://www.ncbi.nlm.nih.gov/pubmed/{pmid}\"\n",
        "\n",
        "                # Extract the abstract\n",
        "                abstract = ' '.join(article['Abstract']['AbstractText']) if 'Abstract' in article else 'Abstract Not Available'\n",
        "\n",
        "                # Format the article information and write to file\n",
        "                article_info = format_article_info(pmid, title, authors_list, journal, pub_date, url, abstract)\n",
        "                f.write(article_info)\n",
        "\n",
        "            time.sleep(0.33)  # Pause to respect PubMed server load\n",
        "\n",
        "print(\"Data extraction complete. Results saved in 'cardiovascular_disease_papers.txt'\")"
      ],
      "metadata": {
        "id": "Mn2G8tjzmdyo"
      },
      "execution_count": null,
      "outputs": []
    }
  ]
}